{
 "cells": [
  {
   "cell_type": "code",
   "execution_count": 31,
   "metadata": {},
   "outputs": [
    {
     "name": "stderr",
     "output_type": "stream",
     "text": [
      "[nltk_data] Downloading package punkt to\n",
      "[nltk_data]     C:\\Users\\Abdullah\\AppData\\Roaming\\nltk_data...\n",
      "[nltk_data]   Package punkt is already up-to-date!\n"
     ]
    }
   ],
   "source": [
    "import pandas as pd\n",
    "import numpy as np\n",
    "import torch\n",
    "from sentence_transformers import SentenceTransformer, util\n",
    "import re\n",
    "from nltk.tokenize import word_tokenize\n",
    "import os\n",
    "import nltk\n",
    "nltk.download('punkt')\n",
    "model = SentenceTransformer('all-mpnet-base-v2')\n",
    "def preprocess(text):\n",
    "    \"\"\"Preprocess the text by removing punctuation and making it lowercase.\"\"\"\n",
    "    text = re.sub(r'[^\\w\\s]', '', text.lower())\n",
    "    tokens = word_tokenize(text)\n",
    "    return ' '.join(tokens)\n",
    "def encode_text_to_embedding(text):\n",
    "    \"\"\"Convert text to a semantic embedding.\"\"\"\n",
    "    return model.encode(text, convert_to_tensor=True)\n",
    "data = []\n",
    "for filename in os.listdir('Quran'):\n",
    "    if filename.endswith('.txt'):\n",
    "        with open(f'Quran/{filename}', 'r', encoding='utf-8') as file:\n",
    "            surah_name = filename.split('.')[0]\n",
    "            verses = file.readlines()\n",
    "            for verse_id, verse_text in enumerate(verses, start=1):\n",
    "                data.append([surah_name, verse_id, preprocess(verse_text.strip())])\n",
    "df = pd.DataFrame(data, columns=['surah_name', 'verse_id', 'processed_text'])\n",
    "df['embedding'] = df['processed_text'].apply(encode_text_to_embedding)"
   ]
  },
  {
   "cell_type": "code",
   "execution_count": 33,
   "metadata": {},
   "outputs": [
    {
     "name": "stdout",
     "output_type": "stream",
     "text": [
      "Surah 1, Verse 6: 6 guide us to the straight path\n",
      "Surah 37, Verse 119: 119 and we guided them upon the straight path\n",
      "Surah 43, Verse 44: 44 so adhere to what is revealed to you you are upon a straight path\n",
      "Surah 36, Verse 62: 62 and that you shall serve me this is a straight path\n",
      "Surah 23, Verse 74: 74 you are inviting them to a straight path\n"
     ]
    }
   ],
   "source": [
    "def find_top_related_verses(input_text, top_k=5):\n",
    "    input_embedding = encode_text_to_embedding(preprocess(input_text))\n",
    "    similarities = [util.pytorch_cos_sim(input_embedding, emb).item() for emb in df['embedding']]\n",
    "    similarities = np.array(similarities)\n",
    "    top_indices = np.argsort(-similarities)[:top_k]\n",
    "    return df.iloc[top_indices] \n",
    "\n",
    "input_text = \"take us on the straight path\"\n",
    "top_related_verses = find_top_related_verses(input_text)\n",
    "for index, row in top_related_verses.iterrows():\n",
    "    print(f\"Surah {row['surah_name']}, Verse {row['verse_id']}: {row['processed_text']}\")\n"
   ]
  },
  {
   "cell_type": "code",
   "execution_count": 54,
   "metadata": {},
   "outputs": [
    {
     "name": "stdout",
     "output_type": "stream",
     "text": [
      "Surah 109, Verse 3: 3 i do not worship what you worship\n",
      "Surah 109, Verse 4: 4 nor do you worship what i worship\n",
      "Surah 40, Verse 67: 67 say i was prohibited from worshiping those you invoke besides god now that clear revelations have come to me from my lord and i was commanded to submit to the lord of the worlds\n",
      "Surah 6, Verse 2: 2 praise be to god who created the heavens and the earth and made the darkness and the light yet those who disbelieve ascribe equals to their lord\n",
      "Surah 46, Verse 5: 5 say have you considered those you worship instead of god show me which portion of the earth they have created or do they own a share of the heavens bring me a scripture prior to this one or some trace of knowledge if you are truthful\n"
     ]
    }
   ],
   "source": [
    "\n",
    "input_text = \"O disbelievers, I do not worship what you worship\".lower()\n",
    "top_related_verses = find_top_related_verses(input_text)\n",
    "for index, row in top_related_verses.iterrows():\n",
    "    print(f\"Surah {row['surah_name']}, Verse {row['verse_id']}: {row['processed_text']}\")\n"
   ]
  },
  {
   "cell_type": "code",
   "execution_count": 46,
   "metadata": {},
   "outputs": [],
   "source": [
    "model.save(\"model\")"
   ]
  },
  {
   "cell_type": "code",
   "execution_count": 48,
   "metadata": {},
   "outputs": [],
   "source": [
    "model = SentenceTransformer(\"model\")"
   ]
  },
  {
   "cell_type": "code",
   "execution_count": 53,
   "metadata": {},
   "outputs": [
    {
     "data": {
      "text/plain": [
       "['model/quran_embeddings.pkl']"
      ]
     },
     "execution_count": 53,
     "metadata": {},
     "output_type": "execute_result"
    }
   ],
   "source": [
    "import joblib\n",
    "joblib.dump(df, 'model/quran_embeddings.pkl')"
   ]
  }
 ],
 "metadata": {
  "kernelspec": {
   "display_name": "Python 3",
   "language": "python",
   "name": "python3"
  },
  "language_info": {
   "codemirror_mode": {
    "name": "ipython",
    "version": 3
   },
   "file_extension": ".py",
   "mimetype": "text/x-python",
   "name": "python",
   "nbconvert_exporter": "python",
   "pygments_lexer": "ipython3",
   "version": "3.11.4"
  }
 },
 "nbformat": 4,
 "nbformat_minor": 2
}
